{
 "cells": [
  {
   "cell_type": "code",
   "execution_count": 2,
   "id": "cf463dc9-894c-47c0-bab9-464a9834bdf4",
   "metadata": {},
   "outputs": [],
   "source": [
    "import numpy as np"
   ]
  },
  {
   "cell_type": "code",
   "execution_count": 4,
   "id": "3539d073-0482-4fb9-87e9-d2ecc695a99a",
   "metadata": {},
   "outputs": [],
   "source": [
    "a = np.array([[2,3],[4,5]])\n",
    "b = np.array([[6,7],[8,9]])"
   ]
  },
  {
   "cell_type": "code",
   "execution_count": 6,
   "id": "90940257-bbc6-494c-a57e-7dc8d6e7b9a2",
   "metadata": {},
   "outputs": [],
   "source": [
    "prod = np.dot(a,b)"
   ]
  },
  {
   "cell_type": "code",
   "execution_count": 7,
   "id": "b329afae-257f-4ba2-aa4d-f59565dcb9f4",
   "metadata": {},
   "outputs": [
    {
     "data": {
      "text/plain": [
       "array([[36, 41],\n",
       "       [64, 73]])"
      ]
     },
     "execution_count": 7,
     "metadata": {},
     "output_type": "execute_result"
    }
   ],
   "source": [
    "prod"
   ]
  },
  {
   "cell_type": "code",
   "execution_count": 8,
   "id": "b50893ad-1ea6-4844-9a76-38e7ac01bf6a",
   "metadata": {},
   "outputs": [],
   "source": [
    "#print() and print(f\"\")"
   ]
  },
  {
   "cell_type": "code",
   "execution_count": 11,
   "id": "f3dd9c0a-3595-43af-a5ae-5ffc1d7520a2",
   "metadata": {},
   "outputs": [
    {
     "name": "stdout",
     "output_type": "stream",
     "text": [
      "lalan got 45 in aiml\n"
     ]
    }
   ],
   "source": [
    "aiml = 45\n",
    "mfcs = 46\n",
    "print(\"lalan got\",aiml,\"in aiml\")"
   ]
  },
  {
   "cell_type": "code",
   "execution_count": 12,
   "id": "9965a21d-255d-4f87-b72c-9658fa550887",
   "metadata": {},
   "outputs": [
    {
     "name": "stdout",
     "output_type": "stream",
     "text": [
      "raman got45 in aiml\n"
     ]
    }
   ],
   "source": [
    "print(f\"raman got{aiml} in aiml\")"
   ]
  },
  {
   "cell_type": "code",
   "execution_count": 13,
   "id": "a7d686ad-cd70-4849-9e7c-1219a1ad8fe0",
   "metadata": {},
   "outputs": [],
   "source": [
    "#function"
   ]
  },
  {
   "cell_type": "code",
   "execution_count": 15,
   "id": "8011ab83-572a-416e-ab65-52b8e88343f3",
   "metadata": {},
   "outputs": [],
   "source": [
    "def hello():\n",
    "    print(\"Today is a Forest Day\")"
   ]
  },
  {
   "cell_type": "code",
   "execution_count": 16,
   "id": "580db7a7-fd00-4bfd-8a3b-0ef9d56426b5",
   "metadata": {},
   "outputs": [
    {
     "name": "stdout",
     "output_type": "stream",
     "text": [
      "Today is a Forest Day\n"
     ]
    }
   ],
   "source": [
    "hello()"
   ]
  },
  {
   "cell_type": "code",
   "execution_count": 17,
   "id": "0f27a17b-43c8-4a22-b765-278e671210b1",
   "metadata": {},
   "outputs": [],
   "source": [
    "def func(x):\n",
    "    if(x%2==0):\n",
    "        print(\"EVEN\")\n",
    "    else:\n",
    "        print(\"ODD\")"
   ]
  },
  {
   "cell_type": "code",
   "execution_count": 19,
   "id": "c52b5b60-7e78-4ab6-92bd-197dc8beac67",
   "metadata": {},
   "outputs": [
    {
     "name": "stdout",
     "output_type": "stream",
     "text": [
      "ODD\n"
     ]
    }
   ],
   "source": [
    "func(9)"
   ]
  },
  {
   "cell_type": "code",
   "execution_count": 20,
   "id": "d3227fdc-a6a5-4c24-ae94-fdb655decffd",
   "metadata": {},
   "outputs": [],
   "source": [
    "#for loop"
   ]
  },
  {
   "cell_type": "code",
   "execution_count": 21,
   "id": "63f03f8a-a9b4-4039-990f-5f9ada5a5df8",
   "metadata": {},
   "outputs": [
    {
     "name": "stdout",
     "output_type": "stream",
     "text": [
      "aa\n",
      "bb\n",
      "cc\n"
     ]
    }
   ],
   "source": [
    "stud = [\"aa\",\"bb\",\"cc\"]\n",
    "for x in stud:\n",
    "    print(x)"
   ]
  },
  {
   "cell_type": "code",
   "execution_count": 22,
   "id": "688d04a5-66cb-40c4-a099-3483abae3e1e",
   "metadata": {},
   "outputs": [
    {
     "name": "stdout",
     "output_type": "stream",
     "text": [
      "M\n",
      "u\n",
      "m\n",
      "b\n",
      "a\n",
      "i\n"
     ]
    }
   ],
   "source": [
    "for x in \"Mumbai\":\n",
    "    print(x)"
   ]
  },
  {
   "cell_type": "code",
   "execution_count": 23,
   "id": "42fd8e47-9f72-4e33-90c7-79f52d8ce626",
   "metadata": {},
   "outputs": [
    {
     "name": "stdout",
     "output_type": "stream",
     "text": [
      "0\n",
      "1\n",
      "2\n",
      "3\n"
     ]
    }
   ],
   "source": [
    "for x in range(4):\n",
    "    print(x)"
   ]
  },
  {
   "cell_type": "code",
   "execution_count": 24,
   "id": "19cd77d4-d2f9-407a-be7f-9bece87c3066",
   "metadata": {},
   "outputs": [],
   "source": [
    "#class"
   ]
  },
  {
   "cell_type": "code",
   "execution_count": 36,
   "id": "fcf4c774-b120-4171-b92a-2dd1276cb5ef",
   "metadata": {},
   "outputs": [],
   "source": [
    "class stud:\n",
    "    def __init__(self,name,roll):\n",
    "        self.name=name\n",
    "        self.roll=roll"
   ]
  },
  {
   "cell_type": "code",
   "execution_count": 37,
   "id": "a28927d0-3129-4a33-8384-e3ea097ad22a",
   "metadata": {},
   "outputs": [
    {
     "name": "stdout",
     "output_type": "stream",
     "text": [
      "jj\n",
      "19\n"
     ]
    }
   ],
   "source": [
    "s1=stud(\"jj\",19)\n",
    "print(s1.name)\n",
    "print(s1.roll)"
   ]
  },
  {
   "cell_type": "code",
   "execution_count": 38,
   "id": "b6bd00f4-cd01-4beb-833c-fee9e13c8b72",
   "metadata": {},
   "outputs": [],
   "source": [
    "#Enumerate"
   ]
  },
  {
   "cell_type": "code",
   "execution_count": 39,
   "id": "a13c1a98-4242-4f9c-99c6-73964f2fa4c5",
   "metadata": {},
   "outputs": [],
   "source": [
    "x = ('pikachu' , 'bulbasaur' ,'charmedor')\n",
    "y = enumerate(x)"
   ]
  },
  {
   "cell_type": "code",
   "execution_count": 40,
   "id": "e1c49a20-ea64-4511-9529-cce69495f179",
   "metadata": {},
   "outputs": [
    {
     "name": "stdout",
     "output_type": "stream",
     "text": [
      "('pikachu', 'bulbasaur', 'charmedor')\n"
     ]
    }
   ],
   "source": [
    "print(x)"
   ]
  },
  {
   "cell_type": "code",
   "execution_count": 41,
   "id": "3ddbe79c-8cfd-44cc-b4dd-fe48cc2794e5",
   "metadata": {},
   "outputs": [
    {
     "name": "stdout",
     "output_type": "stream",
     "text": [
      "Index 0 : pikachu\n",
      "Index 1 : bulbasaur\n",
      "Index 2 : charmedor\n"
     ]
    }
   ],
   "source": [
    "x = ('pikachu' , 'bulbasaur' ,'charmedor')\n",
    "for i, a in enumerate(x):\n",
    "    print(f\"Index {i} : {a}\")"
   ]
  },
  {
   "cell_type": "code",
   "execution_count": 42,
   "id": "71a0f904-8588-4565-b1c3-669c945f9085",
   "metadata": {},
   "outputs": [],
   "source": [
    "#function add a counter to each itemin list or\n",
    "#it act as counter as key\n",
    "#a dot method is a numpy function that calculates dot product of two arrays"
   ]
  },
  {
   "cell_type": "code",
   "execution_count": null,
   "id": "30e8d9f0-e9e3-477a-82a5-803a831fddf5",
   "metadata": {},
   "outputs": [],
   "source": []
  },
  {
   "cell_type": "code",
   "execution_count": null,
   "id": "d806c46b-a7aa-4d12-b45d-a3b85ff06bd4",
   "metadata": {},
   "outputs": [],
   "source": []
  }
 ],
 "metadata": {
  "kernelspec": {
   "display_name": "Python 3 (ipykernel)",
   "language": "python",
   "name": "python3"
  },
  "language_info": {
   "codemirror_mode": {
    "name": "ipython",
    "version": 3
   },
   "file_extension": ".py",
   "mimetype": "text/x-python",
   "name": "python",
   "nbconvert_exporter": "python",
   "pygments_lexer": "ipython3",
   "version": "3.9.12"
  }
 },
 "nbformat": 4,
 "nbformat_minor": 5
}
