{
 "cells": [
  {
   "cell_type": "code",
   "execution_count": 1,
   "id": "6b53f26d-e7b6-46b0-97a7-b476937a2e98",
   "metadata": {},
   "outputs": [],
   "source": [
    "#Implementation od Adaline usin AND gate"
   ]
  },
  {
   "cell_type": "code",
   "execution_count": 2,
   "id": "df10c4cb-8d91-43e8-b224-290384cffecb",
   "metadata": {},
   "outputs": [],
   "source": [
    "import numpy as np"
   ]
  },
  {
   "cell_type": "code",
   "execution_count": 3,
   "id": "68708d61-5f18-45e6-8e77-b866643981aa",
   "metadata": {},
   "outputs": [],
   "source": [
    "#class Adaline:\n",
    "    #def __init__():\n",
    "    #def activation():\n",
    "    #def predict():\n",
    "    #def train():\n",
    "    #def evaluate():\n",
    "    "
   ]
  },
  {
   "cell_type": "code",
   "execution_count": null,
   "id": "37e68591-a8c6-440c-b05c-4e290edd9650",
   "metadata": {},
   "outputs": [],
   "source": [
    "class Adaline:\n",
    "    def __init__(self,input_size,learning_rate=0.1,epochs=100):\n",
    "        self.weight = np.Zeros(input_size)\n",
    "        self.bias = 0\n",
    "        self.learning_rate = learning_rate\n",
    "        self.epochs = epochs\n",
    "        \n",
    "    def activation(self,x):\n",
    "        return x\n",
    "    \n",
    "    def predict(self,x):\n",
    "        return self.activation(np.dot(x,self.weight)+self.bias)\n",
    "        \n",
    "        x = np.array([[0,0],[0,1],[1,0],[1,1]])\n",
    "        y = np.array([0,0,0,1])"
   ]
  }
 ],
 "metadata": {
  "kernelspec": {
   "display_name": "Python 3 (ipykernel)",
   "language": "python",
   "name": "python3"
  },
  "language_info": {
   "codemirror_mode": {
    "name": "ipython",
    "version": 3
   },
   "file_extension": ".py",
   "mimetype": "text/x-python",
   "name": "python",
   "nbconvert_exporter": "python",
   "pygments_lexer": "ipython3",
   "version": "3.9.12"
  }
 },
 "nbformat": 4,
 "nbformat_minor": 5
}
